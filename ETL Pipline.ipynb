{
 "cells": [
  {
   "cell_type": "code",
   "execution_count": 4,
   "id": "4200f856-fcfa-459e-b922-3789ccb8fc21",
   "metadata": {},
   "outputs": [
    {
     "name": "stdout",
     "output_type": "stream",
     "text": [
      "Requirement already satisfied: pyodbc in c:\\users\\omara\\anaconda3\\lib\\site-packages (5.0.1)\n"
     ]
    }
   ],
   "source": [
    "!pip install pyodbc"
   ]
  },
  {
   "cell_type": "code",
   "execution_count": 13,
   "id": "746642e0-c157-483e-97eb-1d7778fb7740",
   "metadata": {},
   "outputs": [],
   "source": [
    "import pandas as pd"
   ]
  },
  {
   "cell_type": "markdown",
   "id": "6cd0ae6b-8f4b-4a10-bdd7-7c712c141340",
   "metadata": {},
   "source": [
    "### Creat a connection to the Database"
   ]
  },
  {
   "cell_type": "code",
   "execution_count": 1,
   "id": "1d75acf5-ef68-4a22-8f05-8e8b6922add6",
   "metadata": {},
   "outputs": [
    {
     "name": "stdout",
     "output_type": "stream",
     "text": [
      "('Microsoft SQL Server 2022 (RTM) - 16.0.1000.6 (X64) \\n\\tOct  8 2022 05:58:25 \\n\\tCopyright (C) 2022 Microsoft Corporation\\n\\tExpress Edition (64-bit) on Windows 10 Pro 10.0 <X64> (Build 22631: ) (Hypervisor)\\n',)\n"
     ]
    }
   ],
   "source": [
    "import pyodbc\n",
    "\n",
    "# Define the connection string with encryption disabled\n",
    "connection_string = (\n",
    "    \"DRIVER={ODBC Driver 18 for SQL Server};\"\n",
    "    \"SERVER=SQL\\\\SQLEXPRESS;\"\n",
    "    \"DATABASE=HDB;\"\n",
    "    \"Trusted_Connection=yes;\"\n",
    "    \"Encrypt=no;\"\n",
    ")\n",
    "\n",
    "# Establish a connection to the database\n",
    "connection = pyodbc.connect(connection_string)\n",
    "\n",
    "# Create a cursor object using the connection\n",
    "cursor = connection.cursor()\n",
    "\n",
    "# Test the connection by fetching some data\n",
    "cursor.execute(\"SELECT @@version;\")\n",
    "row = cursor.fetchone()\n",
    "print(row)"
   ]
  },
  {
   "cell_type": "code",
   "execution_count": 20,
   "id": "af9d5b94-2d84-45b7-b0af-8cc406ab0055",
   "metadata": {},
   "outputs": [],
   "source": [
    "# Set Commit to be true by default\n",
    "\n",
    "connection.autocommit=True"
   ]
  },
  {
   "cell_type": "markdown",
   "id": "d8754dbe-5097-45c8-957b-713b494b31d5",
   "metadata": {},
   "source": [
    "## Create Table Student"
   ]
  },
  {
   "cell_type": "code",
   "execution_count": 22,
   "id": "2a874232-fa5f-478b-ba38-68707b88be0e",
   "metadata": {},
   "outputs": [],
   "source": [
    "try:\n",
    "    cursor.execute(\"CREATE TABLE STUDENTS( student_id int PRIMARY KEY, name varchar(100), age int, gender varchar(10), subject varchar(50), marks int);\")\n",
    "\n",
    "except pyodbc.Error as e:\n",
    "    print(\"Error creating table\")\n",
    "    print(e)"
   ]
  },
  {
   "cell_type": "code",
   "execution_count": 18,
   "id": "450d75b9-cc50-468e-a89d-2f44ac83a313",
   "metadata": {},
   "outputs": [
    {
     "name": "stdout",
     "output_type": "stream",
     "text": [
      "Collecting faker\n",
      "  Downloading Faker-26.0.0-py3-none-any.whl.metadata (15 kB)\n",
      "Requirement already satisfied: python-dateutil>=2.4 in c:\\users\\omara\\anaconda3\\lib\\site-packages (from faker) (2.8.2)\n",
      "Requirement already satisfied: six>=1.5 in c:\\users\\omara\\anaconda3\\lib\\site-packages (from python-dateutil>=2.4->faker) (1.16.0)\n",
      "Downloading Faker-26.0.0-py3-none-any.whl (1.8 MB)\n",
      "   ---------------------------------------- 0.0/1.8 MB ? eta -:--:--\n",
      "   ---------------------------------------- 0.0/1.8 MB ? eta -:--:--\n",
      "   - -------------------------------------- 0.1/1.8 MB 1.7 MB/s eta 0:00:02\n",
      "   --- ------------------------------------ 0.2/1.8 MB 1.7 MB/s eta 0:00:01\n",
      "   ----- ---------------------------------- 0.3/1.8 MB 2.0 MB/s eta 0:00:01\n",
      "   ------ --------------------------------- 0.3/1.8 MB 1.7 MB/s eta 0:00:01\n",
      "   ------ --------------------------------- 0.3/1.8 MB 1.7 MB/s eta 0:00:01\n",
      "   ------ --------------------------------- 0.3/1.8 MB 1.7 MB/s eta 0:00:01\n",
      "   ------- -------------------------------- 0.3/1.8 MB 967.8 kB/s eta 0:00:02\n",
      "   ------- -------------------------------- 0.3/1.8 MB 873.8 kB/s eta 0:00:02\n",
      "   ------- -------------------------------- 0.3/1.8 MB 873.8 kB/s eta 0:00:02\n",
      "   ------- -------------------------------- 0.4/1.8 MB 768.6 kB/s eta 0:00:02\n",
      "   -------- ------------------------------- 0.4/1.8 MB 740.5 kB/s eta 0:00:02\n",
      "   -------- ------------------------------- 0.4/1.8 MB 740.5 kB/s eta 0:00:02\n",
      "   -------- ------------------------------- 0.4/1.8 MB 655.5 kB/s eta 0:00:03\n",
      "   --------- ------------------------------ 0.4/1.8 MB 655.8 kB/s eta 0:00:03\n",
      "   --------- ------------------------------ 0.4/1.8 MB 624.4 kB/s eta 0:00:03\n",
      "   --------- ------------------------------ 0.4/1.8 MB 624.4 kB/s eta 0:00:03\n",
      "   --------- ------------------------------ 0.4/1.8 MB 573.4 kB/s eta 0:00:03\n",
      "   ---------- ----------------------------- 0.5/1.8 MB 552.5 kB/s eta 0:00:03\n",
      "   ---------- ----------------------------- 0.5/1.8 MB 552.5 kB/s eta 0:00:03\n",
      "   ---------- ----------------------------- 0.5/1.8 MB 508.6 kB/s eta 0:00:03\n",
      "   ---------- ----------------------------- 0.5/1.8 MB 505.0 kB/s eta 0:00:03\n",
      "   ----------- ---------------------------- 0.5/1.8 MB 491.5 kB/s eta 0:00:03\n",
      "   ----------- ---------------------------- 0.5/1.8 MB 491.5 kB/s eta 0:00:03\n",
      "   ----------- ---------------------------- 0.5/1.8 MB 468.0 kB/s eta 0:00:03\n",
      "   ------------ --------------------------- 0.6/1.8 MB 476.1 kB/s eta 0:00:03\n",
      "   ------------ --------------------------- 0.6/1.8 MB 468.2 kB/s eta 0:00:03\n",
      "   ------------ --------------------------- 0.6/1.8 MB 458.8 kB/s eta 0:00:03\n",
      "   ------------ --------------------------- 0.6/1.8 MB 458.8 kB/s eta 0:00:03\n",
      "   ------------ --------------------------- 0.6/1.8 MB 458.8 kB/s eta 0:00:03\n",
      "   ------------- -------------------------- 0.6/1.8 MB 415.1 kB/s eta 0:00:03\n",
      "   ------------- -------------------------- 0.6/1.8 MB 420.4 kB/s eta 0:00:03\n",
      "   ------------- -------------------------- 0.6/1.8 MB 420.4 kB/s eta 0:00:03\n",
      "   ------------- -------------------------- 0.6/1.8 MB 397.2 kB/s eta 0:00:03\n",
      "   -------------- ------------------------- 0.6/1.8 MB 398.3 kB/s eta 0:00:03\n",
      "   -------------- ------------------------- 0.6/1.8 MB 398.3 kB/s eta 0:00:03\n",
      "   -------------- ------------------------- 0.7/1.8 MB 392.0 kB/s eta 0:00:03\n",
      "   -------------- ------------------------- 0.7/1.8 MB 392.0 kB/s eta 0:00:03\n",
      "   --------------- ------------------------ 0.7/1.8 MB 385.2 kB/s eta 0:00:03\n",
      "   --------------- ------------------------ 0.7/1.8 MB 380.9 kB/s eta 0:00:03\n",
      "   --------------- ------------------------ 0.7/1.8 MB 380.9 kB/s eta 0:00:03\n",
      "   --------------- ------------------------ 0.7/1.8 MB 380.9 kB/s eta 0:00:03\n",
      "   ---------------- ----------------------- 0.7/1.8 MB 370.1 kB/s eta 0:00:03\n",
      "   ---------------- ----------------------- 0.7/1.8 MB 374.4 kB/s eta 0:00:03\n",
      "   ---------------- ----------------------- 0.7/1.8 MB 374.4 kB/s eta 0:00:03\n",
      "   ----------------- ---------------------- 0.8/1.8 MB 369.6 kB/s eta 0:00:03\n",
      "   ----------------- ---------------------- 0.8/1.8 MB 366.2 kB/s eta 0:00:03\n",
      "   ----------------- ---------------------- 0.8/1.8 MB 367.7 kB/s eta 0:00:03\n",
      "   ----------------- ---------------------- 0.8/1.8 MB 367.7 kB/s eta 0:00:03\n",
      "   ------------------ --------------------- 0.8/1.8 MB 361.7 kB/s eta 0:00:03\n",
      "   ------------------ --------------------- 0.8/1.8 MB 361.7 kB/s eta 0:00:03\n",
      "   ------------------ --------------------- 0.8/1.8 MB 349.2 kB/s eta 0:00:03\n",
      "   ------------------- -------------------- 0.9/1.8 MB 348.8 kB/s eta 0:00:03\n",
      "   ------------------- -------------------- 0.9/1.8 MB 350.7 kB/s eta 0:00:03\n",
      "   ------------------- -------------------- 0.9/1.8 MB 350.7 kB/s eta 0:00:03\n",
      "   -------------------- ------------------- 0.9/1.8 MB 349.5 kB/s eta 0:00:03\n",
      "   -------------------- ------------------- 0.9/1.8 MB 349.5 kB/s eta 0:00:03\n",
      "   -------------------- ------------------- 0.9/1.8 MB 341.1 kB/s eta 0:00:03\n",
      "   -------------------- ------------------- 0.9/1.8 MB 341.1 kB/s eta 0:00:03\n",
      "   -------------------- ------------------- 0.9/1.8 MB 341.1 kB/s eta 0:00:03\n",
      "   --------------------- ------------------ 1.0/1.8 MB 340.7 kB/s eta 0:00:03\n",
      "   --------------------- ------------------ 1.0/1.8 MB 340.4 kB/s eta 0:00:03\n",
      "   ---------------------- ----------------- 1.0/1.8 MB 341.9 kB/s eta 0:00:03\n",
      "   ---------------------- ----------------- 1.0/1.8 MB 341.9 kB/s eta 0:00:03\n",
      "   ---------------------- ----------------- 1.0/1.8 MB 332.9 kB/s eta 0:00:03\n",
      "   ---------------------- ----------------- 1.0/1.8 MB 334.5 kB/s eta 0:00:03\n",
      "   ---------------------- ----------------- 1.0/1.8 MB 334.5 kB/s eta 0:00:03\n",
      "   ---------------------- ----------------- 1.0/1.8 MB 334.5 kB/s eta 0:00:03\n",
      "   ----------------------- ---------------- 1.1/1.8 MB 329.3 kB/s eta 0:00:03\n",
      "   ----------------------- ---------------- 1.1/1.8 MB 330.8 kB/s eta 0:00:03\n",
      "   ----------------------- ---------------- 1.1/1.8 MB 330.8 kB/s eta 0:00:03\n",
      "   ------------------------ --------------- 1.1/1.8 MB 327.7 kB/s eta 0:00:03\n",
      "   ------------------------ --------------- 1.1/1.8 MB 327.7 kB/s eta 0:00:03\n",
      "   ------------------------ --------------- 1.1/1.8 MB 326.2 kB/s eta 0:00:03\n",
      "   ------------------------- -------------- 1.1/1.8 MB 324.7 kB/s eta 0:00:03\n",
      "   ------------------------- -------------- 1.1/1.8 MB 323.4 kB/s eta 0:00:03\n",
      "   ------------------------- -------------- 1.1/1.8 MB 323.4 kB/s eta 0:00:03\n",
      "   ------------------------- -------------- 1.1/1.8 MB 323.4 kB/s eta 0:00:03\n",
      "   -------------------------- ------------- 1.2/1.8 MB 319.3 kB/s eta 0:00:02\n",
      "   -------------------------- ------------- 1.2/1.8 MB 323.5 kB/s eta 0:00:02\n",
      "   -------------------------- ------------- 1.2/1.8 MB 323.5 kB/s eta 0:00:02\n",
      "   -------------------------- ------------- 1.2/1.8 MB 323.5 kB/s eta 0:00:02\n",
      "   --------------------------- ------------ 1.2/1.8 MB 317.0 kB/s eta 0:00:02\n",
      "   --------------------------- ------------ 1.2/1.8 MB 318.5 kB/s eta 0:00:02\n",
      "   --------------------------- ------------ 1.2/1.8 MB 318.5 kB/s eta 0:00:02\n",
      "   --------------------------- ------------ 1.3/1.8 MB 316.0 kB/s eta 0:00:02\n",
      "   ---------------------------- ----------- 1.3/1.8 MB 316.3 kB/s eta 0:00:02\n",
      "   ---------------------------- ----------- 1.3/1.8 MB 316.4 kB/s eta 0:00:02\n",
      "   ---------------------------- ----------- 1.3/1.8 MB 316.4 kB/s eta 0:00:02\n",
      "   ----------------------------- ---------- 1.3/1.8 MB 314.1 kB/s eta 0:00:02\n",
      "   ----------------------------- ---------- 1.3/1.8 MB 313.1 kB/s eta 0:00:02\n",
      "   ----------------------------- ---------- 1.3/1.8 MB 313.1 kB/s eta 0:00:02\n",
      "   ----------------------------- ---------- 1.3/1.8 MB 309.8 kB/s eta 0:00:02\n",
      "   ----------------------------- ---------- 1.3/1.8 MB 309.8 kB/s eta 0:00:02\n",
      "   ------------------------------ --------- 1.4/1.8 MB 309.0 kB/s eta 0:00:02\n",
      "   ------------------------------ --------- 1.4/1.8 MB 308.0 kB/s eta 0:00:02\n",
      "   ------------------------------ --------- 1.4/1.8 MB 308.3 kB/s eta 0:00:02\n",
      "   ------------------------------ --------- 1.4/1.8 MB 308.3 kB/s eta 0:00:02\n",
      "   ------------------------------- -------- 1.4/1.8 MB 305.4 kB/s eta 0:00:02\n",
      "   ------------------------------- -------- 1.4/1.8 MB 305.4 kB/s eta 0:00:02\n",
      "   ------------------------------- -------- 1.4/1.8 MB 304.6 kB/s eta 0:00:02\n",
      "   -------------------------------- ------- 1.4/1.8 MB 304.8 kB/s eta 0:00:02\n",
      "   -------------------------------- ------- 1.5/1.8 MB 303.0 kB/s eta 0:00:02\n",
      "   -------------------------------- ------- 1.5/1.8 MB 303.0 kB/s eta 0:00:02\n",
      "   -------------------------------- ------- 1.5/1.8 MB 303.3 kB/s eta 0:00:02\n",
      "   --------------------------------- ------ 1.5/1.8 MB 303.6 kB/s eta 0:00:02\n",
      "   --------------------------------- ------ 1.5/1.8 MB 302.8 kB/s eta 0:00:01\n",
      "   --------------------------------- ------ 1.5/1.8 MB 304.1 kB/s eta 0:00:01\n",
      "   ---------------------------------- ----- 1.5/1.8 MB 303.3 kB/s eta 0:00:01\n",
      "   ---------------------------------- ----- 1.5/1.8 MB 303.3 kB/s eta 0:00:01\n",
      "   ---------------------------------- ----- 1.6/1.8 MB 302.6 kB/s eta 0:00:01\n",
      "   ----------------------------------- ---- 1.6/1.8 MB 303.9 kB/s eta 0:00:01\n",
      "   ----------------------------------- ---- 1.6/1.8 MB 303.9 kB/s eta 0:00:01\n",
      "   ----------------------------------- ---- 1.6/1.8 MB 300.4 kB/s eta 0:00:01\n",
      "   ----------------------------------- ---- 1.6/1.8 MB 299.8 kB/s eta 0:00:01\n",
      "   ----------------------------------- ---- 1.6/1.8 MB 299.8 kB/s eta 0:00:01\n",
      "   ----------------------------------- ---- 1.6/1.8 MB 296.5 kB/s eta 0:00:01\n",
      "   ----------------------------------- ---- 1.6/1.8 MB 296.5 kB/s eta 0:00:01\n",
      "   ------------------------------------ --- 1.6/1.8 MB 295.2 kB/s eta 0:00:01\n",
      "   ------------------------------------ --- 1.7/1.8 MB 295.6 kB/s eta 0:00:01\n",
      "   ------------------------------------- -- 1.7/1.8 MB 294.9 kB/s eta 0:00:01\n",
      "   ------------------------------------- -- 1.7/1.8 MB 294.9 kB/s eta 0:00:01\n",
      "   ------------------------------------- -- 1.7/1.8 MB 293.5 kB/s eta 0:00:01\n",
      "   ------------------------------------- -- 1.7/1.8 MB 293.8 kB/s eta 0:00:01\n",
      "   -------------------------------------- - 1.7/1.8 MB 293.2 kB/s eta 0:00:01\n",
      "   -------------------------------------- - 1.7/1.8 MB 294.4 kB/s eta 0:00:01\n",
      "   -------------------------------------- - 1.8/1.8 MB 294.8 kB/s eta 0:00:01\n",
      "   -------------------------------------- - 1.8/1.8 MB 294.8 kB/s eta 0:00:01\n",
      "   ---------------------------------------  1.8/1.8 MB 293.4 kB/s eta 0:00:01\n",
      "   ---------------------------------------  1.8/1.8 MB 294.7 kB/s eta 0:00:01\n",
      "   ---------------------------------------- 1.8/1.8 MB 294.5 kB/s eta 0:00:00\n",
      "Installing collected packages: faker\n",
      "Successfully installed faker-26.0.0\n"
     ]
    }
   ],
   "source": [
    "!pip install faker"
   ]
  },
  {
   "cell_type": "code",
   "execution_count": 23,
   "id": "84ef9e95-0bcd-4e7c-bcb2-11800f2ab5a6",
   "metadata": {},
   "outputs": [
    {
     "name": "stdout",
     "output_type": "stream",
     "text": [
      "Data inserted successfully.\n"
     ]
    }
   ],
   "source": [
    "import random\n",
    "from faker import Faker\n",
    "\n",
    "# Create a Faker instance to generate random data\n",
    "fake = Faker()\n",
    "\n",
    "# Insert 10 random records into the STUDENTS table\n",
    "for _ in range(10):\n",
    "    student_id = random.randint(1, 1000)  # Random student_id between 1 and 1000\n",
    "    name = fake.name()                   # Random name\n",
    "    age = random.randint(18, 25)         # Random age between 18 and 25\n",
    "    gender = random.choice(['Male', 'Female'])  # Random gender\n",
    "\n",
    "    query = f\"\"\"\n",
    "    INSERT INTO STUDENTS (student_id, name, age, gender, subject, marks) \n",
    "    VALUES ({student_id}, '{name}', {age}, '{gender}');\n",
    "    \"\"\"\n",
    "\n",
    "    try:\n",
    "        cursor.execute(query)\n",
    "    except pyodbc.Error as e:\n",
    "        print(f\"Error inserting data: {e}\")\n",
    "\n",
    "print(\"Data inserted successfully.\")"
   ]
  },
  {
   "cell_type": "code",
   "execution_count": 12,
   "id": "10d65af2-6b18-4526-ba91-a88b0cf524b9",
   "metadata": {},
   "outputs": [
    {
     "name": "stdout",
     "output_type": "stream",
     "text": [
      "(65, 'Bailey Johnson', 20, 'Male')\n",
      "(143, 'Nicholas Flores', 18, 'Female')\n",
      "(146, 'Charles West', 22, 'Male')\n",
      "(406, 'Antonio Perkins', 18, 'Male')\n",
      "(500, 'Paul Carlson', 24, 'Female')\n",
      "(554, 'Dr. Andrea Vasquez DDS', 18, 'Female')\n",
      "(588, 'Richard Smith', 18, 'Female')\n",
      "(657, 'Eric Johnston', 25, 'Male')\n",
      "(958, 'Catherine Mccarthy', 23, 'Male')\n",
      "(987, 'Mrs. Andrea Martin PhD', 19, 'Male')\n"
     ]
    }
   ],
   "source": [
    "## Check Values are inserted in STUDENTS table\n",
    "\n",
    "try:\n",
    "    cursor.execute(\"SELECT * FROM STUDENTS\")\n",
    "except pyodbc.Error as e:\n",
    "        print(f\"Error inserting data: {e}\")     \n",
    "\n",
    "row = cursor.fetchone()\n",
    "while row:\n",
    "    print(row)\n",
    "    row = cursor.fetchone()"
   ]
  },
  {
   "cell_type": "markdown",
   "id": "41343f41-3589-437b-99f5-a6bdabd46daf",
   "metadata": {},
   "source": [
    "## Read CSV files"
   ]
  },
  {
   "cell_type": "code",
   "execution_count": 14,
   "id": "40df923d-ac58-43f7-8561-21959c5a0573",
   "metadata": {},
   "outputs": [],
   "source": [
    "Courses = pd.read_csv(r\"C:\\Users\\omara\\OneDrive\\Desktop\\Omar\\Portfolio\\Data Engineer\\Project 1\\Courses.csv\")"
   ]
  },
  {
   "cell_type": "code",
   "execution_count": 16,
   "id": "b3503e94-2c8c-4c27-a766-51db96d15917",
   "metadata": {},
   "outputs": [
    {
     "data": {
      "text/html": [
       "<div>\n",
       "<style scoped>\n",
       "    .dataframe tbody tr th:only-of-type {\n",
       "        vertical-align: middle;\n",
       "    }\n",
       "\n",
       "    .dataframe tbody tr th {\n",
       "        vertical-align: top;\n",
       "    }\n",
       "\n",
       "    .dataframe thead th {\n",
       "        text-align: right;\n",
       "    }\n",
       "</style>\n",
       "<table border=\"1\" class=\"dataframe\">\n",
       "  <thead>\n",
       "    <tr style=\"text-align: right;\">\n",
       "      <th></th>\n",
       "      <th>course_id</th>\n",
       "      <th>course_name</th>\n",
       "    </tr>\n",
       "  </thead>\n",
       "  <tbody>\n",
       "    <tr>\n",
       "      <th>0</th>\n",
       "      <td>1</td>\n",
       "      <td>Science</td>\n",
       "    </tr>\n",
       "    <tr>\n",
       "      <th>1</th>\n",
       "      <td>2</td>\n",
       "      <td>English</td>\n",
       "    </tr>\n",
       "    <tr>\n",
       "      <th>2</th>\n",
       "      <td>3</td>\n",
       "      <td>History</td>\n",
       "    </tr>\n",
       "    <tr>\n",
       "      <th>3</th>\n",
       "      <td>4</td>\n",
       "      <td>Math</td>\n",
       "    </tr>\n",
       "  </tbody>\n",
       "</table>\n",
       "</div>"
      ],
      "text/plain": [
       "   course_id course_name\n",
       "0          1     Science\n",
       "1          2     English\n",
       "2          3     History\n",
       "3          4        Math"
      ]
     },
     "execution_count": 16,
     "metadata": {},
     "output_type": "execute_result"
    }
   ],
   "source": [
    "Courses.head()"
   ]
  },
  {
   "cell_type": "code",
   "execution_count": 17,
   "id": "c408605c-a8db-4631-8d27-4d1f7d6f3c49",
   "metadata": {},
   "outputs": [],
   "source": [
    "Marks = pd.read_csv(r\"C:\\Users\\omara\\OneDrive\\Desktop\\Omar\\Portfolio\\Data Engineer\\Project 1\\Marks.csv\")"
   ]
  },
  {
   "cell_type": "code",
   "execution_count": 18,
   "id": "5ca14241-ddb8-4dc2-b1be-81d456b0c475",
   "metadata": {},
   "outputs": [
    {
     "data": {
      "text/html": [
       "<div>\n",
       "<style scoped>\n",
       "    .dataframe tbody tr th:only-of-type {\n",
       "        vertical-align: middle;\n",
       "    }\n",
       "\n",
       "    .dataframe tbody tr th {\n",
       "        vertical-align: top;\n",
       "    }\n",
       "\n",
       "    .dataframe thead th {\n",
       "        text-align: right;\n",
       "    }\n",
       "</style>\n",
       "<table border=\"1\" class=\"dataframe\">\n",
       "  <thead>\n",
       "    <tr style=\"text-align: right;\">\n",
       "      <th></th>\n",
       "      <th>student_id</th>\n",
       "      <th>course_id</th>\n",
       "      <th>time_study</th>\n",
       "      <th>marks</th>\n",
       "    </tr>\n",
       "  </thead>\n",
       "  <tbody>\n",
       "    <tr>\n",
       "      <th>0</th>\n",
       "      <td>65</td>\n",
       "      <td>3</td>\n",
       "      <td>4.508</td>\n",
       "      <td>19.202</td>\n",
       "    </tr>\n",
       "    <tr>\n",
       "      <th>1</th>\n",
       "      <td>143</td>\n",
       "      <td>4</td>\n",
       "      <td>0.096</td>\n",
       "      <td>7.734</td>\n",
       "    </tr>\n",
       "    <tr>\n",
       "      <th>2</th>\n",
       "      <td>146</td>\n",
       "      <td>4</td>\n",
       "      <td>3.133</td>\n",
       "      <td>13.811</td>\n",
       "    </tr>\n",
       "    <tr>\n",
       "      <th>3</th>\n",
       "      <td>406</td>\n",
       "      <td>3</td>\n",
       "      <td>7.909</td>\n",
       "      <td>53.018</td>\n",
       "    </tr>\n",
       "    <tr>\n",
       "      <th>4</th>\n",
       "      <td>500</td>\n",
       "      <td>3</td>\n",
       "      <td>7.811</td>\n",
       "      <td>55.299</td>\n",
       "    </tr>\n",
       "  </tbody>\n",
       "</table>\n",
       "</div>"
      ],
      "text/plain": [
       "   student_id  course_id  time_study   marks\n",
       "0          65          3       4.508  19.202\n",
       "1         143          4       0.096   7.734\n",
       "2         146          4       3.133  13.811\n",
       "3         406          3       7.909  53.018\n",
       "4         500          3       7.811  55.299"
      ]
     },
     "execution_count": 18,
     "metadata": {},
     "output_type": "execute_result"
    }
   ],
   "source": [
    "Marks.head()"
   ]
  },
  {
   "cell_type": "markdown",
   "id": "2d952699-3ec2-437e-8d75-f31695166a01",
   "metadata": {},
   "source": [
    "## Create Courses and Marks tables"
   ]
  },
  {
   "cell_type": "code",
   "execution_count": 24,
   "id": "35f651bc-39a9-4954-9567-12d426952bf2",
   "metadata": {},
   "outputs": [],
   "source": [
    "try:\n",
    "   # Create the COURSES table\n",
    "    cursor.execute(\"\"\"\n",
    "        CREATE TABLE COURSES (\n",
    "            course_id int PRIMARY KEY,\n",
    "            course_name varchar(100)\n",
    "        );\n",
    "    \"\"\")\n",
    "\n",
    "    # Create the MARKS table with foreign keys referencing the COURSES and STUDENTS tables\n",
    "    cursor.execute(\"\"\"\n",
    "        CREATE TABLE MARKS (\n",
    "            student_id int,\n",
    "            course_id int,\n",
    "            time_study float,\n",
    "            marks float,\n",
    "            FOREIGN KEY (course_id) REFERENCES COURSES(course_id),\n",
    "            FOREIGN KEY (student_id) REFERENCES STUDENTS(student_id)\n",
    "        );\n",
    "    \"\"\")\n",
    "\n",
    "except pyodbc.Error as e:\n",
    "    print(\"Error creating table\")\n",
    "    print(e)"
   ]
  },
  {
   "cell_type": "markdown",
   "id": "e2e6f3c8-b342-4b3b-bba6-4e8182b71694",
   "metadata": {},
   "source": [
    "## Insert Courses and Marks csv files into COURSES & MARKS tables"
   ]
  },
  {
   "cell_type": "code",
   "execution_count": null,
   "id": "30c414c0-5b44-4ded-abae-621b7cf828ff",
   "metadata": {},
   "outputs": [],
   "source": [
    "## Insert data into the COURSES table\n",
    "\n",
    "try:\n",
    "    for index, row in Courses.iterrows():\n",
    "        cursor.execute(\"\"\"\n",
    "            INSERT INTO COURSES (course_id, course_name)\n",
    "            VALUES (?, ?)\n",
    "        \"\"\", row['course_id'], row['course_name'])\n",
    "\n",
    "except pyodbc.Error as e:\n",
    "    print(\"Error inserting data\")\n",
    "    print(e)"
   ]
  },
  {
   "cell_type": "code",
   "execution_count": 31,
   "id": "05a55e7b-a29a-4236-8e09-73639bf9718f",
   "metadata": {},
   "outputs": [],
   "source": [
    "## Insert data into the MARKS table\n",
    "\n",
    "try:\n",
    "    for index, row in Marks.iterrows():\n",
    "        cursor.execute(\"\"\"\n",
    "            INSERT INTO MARKS (student_id, course_id, time_study, marks)\n",
    "            VALUES (?, ?, ?, ?)\n",
    "        \"\"\", row['student_id'], row['course_id'], row['time_study'], row['marks'])\n",
    "\n",
    "except pyodbc.Error as e:\n",
    "    print(\"Error inserting data\")\n",
    "    print(e)"
   ]
  },
  {
   "cell_type": "code",
   "execution_count": 35,
   "id": "ae77c1f4-5ae6-4ce3-9f76-5d6ac5fd640d",
   "metadata": {},
   "outputs": [
    {
     "name": "stdout",
     "output_type": "stream",
     "text": [
      "(65, 3, 4.508, 19.202)\n",
      "(143, 4, 0.096, 7.734)\n",
      "(146, 4, 3.133, 13.811)\n",
      "(406, 3, 7.909, 53.018)\n",
      "(500, 3, 7.811, 55.299)\n",
      "(554, 2, 3.211, 17.822)\n",
      "(588, 4, 6.063, 29.889)\n",
      "(657, 1, 3.413, 17.264)\n",
      "(958, 1, 4.41, 20.348)\n",
      "(987, 2, 6.173, 30.862)\n",
      "(65, 4, 6.508, 50.202)\n",
      "(500, 1, 2.811, 45.789)\n"
     ]
    }
   ],
   "source": [
    "## Check Values are inserted in MARKS table\n",
    "\n",
    "try:\n",
    "    cursor.execute(\"SELECT * FROM MARKS\")\n",
    "except pyodbc.Error as e:\n",
    "        print(f\"Error inserting data: {e}\")     \n",
    "\n",
    "row = cursor.fetchone()\n",
    "while row:\n",
    "    print(row)\n",
    "    row = cursor.fetchone()"
   ]
  },
  {
   "cell_type": "code",
   "execution_count": 36,
   "id": "702ff203-f4a7-41be-b9ed-351ea4d35cca",
   "metadata": {},
   "outputs": [
    {
     "name": "stdout",
     "output_type": "stream",
     "text": [
      "(1, 'Science')\n",
      "(2, 'English')\n",
      "(3, 'History')\n",
      "(4, 'Math')\n"
     ]
    }
   ],
   "source": [
    "## Check Values are inserted in COURSES table\n",
    "\n",
    "try:\n",
    "    cursor.execute(\"SELECT * FROM COURSES\")\n",
    "except pyodbc.Error as e:\n",
    "        print(f\"Error inserting data: {e}\")     \n",
    "\n",
    "row = cursor.fetchone()\n",
    "while row:\n",
    "    print(row)\n",
    "    row = cursor.fetchone()"
   ]
  },
  {
   "cell_type": "markdown",
   "id": "36aba54d-02d9-4359-b85e-3f2d1852a380",
   "metadata": {},
   "source": [
    "## Create Indexes And Logging To Capture Connections, Table Creations, Index Creations, And Errors"
   ]
  },
  {
   "cell_type": "code",
   "execution_count": 6,
   "id": "76afbdac-e43b-4a46-87db-28db95112dfb",
   "metadata": {},
   "outputs": [],
   "source": [
    "import logging\n",
    "\n",
    "# Configure logging\n",
    "logging.basicConfig(filename='database_operations.log', level=logging.INFO,\n",
    "                    format='%(asctime)s - %(levelname)s - %(message)s')\n",
    "\n",
    "# SQL commands to create indexes\n",
    "create_index_queries = {\n",
    "    'MARKS': \"CREATE INDEX idx_student_course ON MARKS(student_id, course_id);\",\n",
    "    'COURSES': \"CREATE INDEX idx_course_id ON COURSES(course_id);\",\n",
    "    'STUDENTS': \"CREATE INDEX idx_student_id ON STUDENTS(student_id);\"}\n",
    "\n",
    "try:\n",
    "    logging.info('Starting index creation process.')\n",
    "\n",
    "    # Create indexes for each table as specified\n",
    "    for table, query in create_index_queries.items():\n",
    "        try:\n",
    "            logging.info(f'Creating index for {table}...')\n",
    "            cursor.execute(query)\n",
    "            connection.commit()\n",
    "            logging.info(f'Index created successfully for {table}.')\n",
    "        except pyodbc.Error as e:\n",
    "            logging.error(f'Error creating index for {table}: {e}')\n",
    "\n",
    "except pyodbc.Error as e:\n",
    "    logging.Error('Database error occurred during index creation: %s', e)\n",
    "except Exception as e:\n",
    "    logging.Error('Unexpected error occurred during index creation: %s', e)\n",
    "finally:\n",
    "    logging.info('Index creation process completed.')"
   ]
  }
 ],
 "metadata": {
  "kernelspec": {
   "display_name": "Python 3 (ipykernel)",
   "language": "python",
   "name": "python3"
  },
  "language_info": {
   "codemirror_mode": {
    "name": "ipython",
    "version": 3
   },
   "file_extension": ".py",
   "mimetype": "text/x-python",
   "name": "python",
   "nbconvert_exporter": "python",
   "pygments_lexer": "ipython3",
   "version": "3.11.7"
  }
 },
 "nbformat": 4,
 "nbformat_minor": 5
}

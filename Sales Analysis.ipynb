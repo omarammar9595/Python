{
 "cells": [
  {
   "cell_type": "code",
   "execution_count": 1,
   "id": "0b0d9943-49ea-4ee2-bed7-1463de3339cb",
   "metadata": {},
   "outputs": [],
   "source": [
    "import pandas as pd\n",
    "import os\n",
    "import matplotlib.pyplot as plt"
   ]
  },
  {
   "cell_type": "markdown",
   "id": "33f89f1e-6088-4360-a8d7-df11ccda750a",
   "metadata": {},
   "source": [
    "### Merge 12 Months Sales Data Into A Single csv File"
   ]
  },
  {
   "cell_type": "code",
   "execution_count": 2,
   "id": "2c49b7b1-bceb-4911-b1a0-a741a2e65a37",
   "metadata": {},
   "outputs": [],
   "source": [
    "# List all files in the directory\n",
    "files = [file for file in os.listdir(r'C:\\Users\\omara\\OneDrive\\Desktop\\Omar\\Portfolio\\Python\\SalesAnalysis\\Sales_Data')]\n",
    "\n",
    "all_months_data = pd.DataFrame()\n",
    "\n",
    "# Loop through and read each file\n",
    "for file in files:\n",
    "    df = pd.read_csv(r'C:\\Users\\omara\\OneDrive\\Desktop\\Omar\\Portfolio\\Python\\SalesAnalysis\\Sales_Data\\\\' + file)\n",
    "    all_months_data = pd.concat([all_months_data, df])\n",
    "\n",
    "all_months_data.to_csv('all_months_data',index = False)"
   ]
  },
  {
   "cell_type": "code",
   "execution_count": 3,
   "id": "5f01b463-4aff-4174-9aa4-6ed969aad4ea",
   "metadata": {},
   "outputs": [],
   "source": [
    "all_data = pd.read_csv(r\"C:\\Users\\omara\\OneDrive\\Desktop\\Omar\\Portfolio\\Python\\SalesAnalysis\\all_months_data.csv\")"
   ]
  },
  {
   "cell_type": "markdown",
   "id": "6097f683-9298-4cc7-a7fd-68c37d5507dc",
   "metadata": {},
   "source": [
    "### Add Months Columns"
   ]
  },
  {
   "cell_type": "code",
   "execution_count": 4,
   "id": "9f02940c-d377-4847-862d-6bef0f073cc4",
   "metadata": {},
   "outputs": [],
   "source": [
    "#Add Months Column\n",
    "all_data['Months'] = 3\n",
    "all_data['Months'] = all_data['Order Date'].str.split('/').str[0]"
   ]
  },
  {
   "cell_type": "markdown",
   "id": "784f0c42-1ff3-47da-9fe1-5d09665af4ad",
   "metadata": {},
   "source": [
    "Drop Blank Rows, Order Date Values That Are = Order Date & Convert Months Column To Number"
   ]
  },
  {
   "cell_type": "code",
   "execution_count": 5,
   "id": "8ca2cf11-32a9-4981-9233-e66b53b02927",
   "metadata": {},
   "outputs": [
    {
     "data": {
      "text/html": [
       "<div>\n",
       "<style scoped>\n",
       "    .dataframe tbody tr th:only-of-type {\n",
       "        vertical-align: middle;\n",
       "    }\n",
       "\n",
       "    .dataframe tbody tr th {\n",
       "        vertical-align: top;\n",
       "    }\n",
       "\n",
       "    .dataframe thead th {\n",
       "        text-align: right;\n",
       "    }\n",
       "</style>\n",
       "<table border=\"1\" class=\"dataframe\">\n",
       "  <thead>\n",
       "    <tr style=\"text-align: right;\">\n",
       "      <th></th>\n",
       "      <th>Order ID</th>\n",
       "      <th>Product</th>\n",
       "      <th>Quantity Ordered</th>\n",
       "      <th>Price Each</th>\n",
       "      <th>Order Date</th>\n",
       "      <th>Purchase Address</th>\n",
       "      <th>Months</th>\n",
       "    </tr>\n",
       "  </thead>\n",
       "  <tbody>\n",
       "    <tr>\n",
       "      <th>0</th>\n",
       "      <td>176558</td>\n",
       "      <td>USB-C Charging Cable</td>\n",
       "      <td>2</td>\n",
       "      <td>11.95</td>\n",
       "      <td>4/19/2019 8:46</td>\n",
       "      <td>917 1st St, Dallas, TX 75001</td>\n",
       "      <td>4</td>\n",
       "    </tr>\n",
       "    <tr>\n",
       "      <th>2</th>\n",
       "      <td>176559</td>\n",
       "      <td>Bose SoundSport Headphones</td>\n",
       "      <td>1</td>\n",
       "      <td>99.99</td>\n",
       "      <td>4/7/2019 22:30</td>\n",
       "      <td>682 Chestnut St, Boston, MA 02215</td>\n",
       "      <td>4</td>\n",
       "    </tr>\n",
       "    <tr>\n",
       "      <th>3</th>\n",
       "      <td>176560</td>\n",
       "      <td>Google Phone</td>\n",
       "      <td>1</td>\n",
       "      <td>600</td>\n",
       "      <td>4/12/2019 14:38</td>\n",
       "      <td>669 Spruce St, Los Angeles, CA 90001</td>\n",
       "      <td>4</td>\n",
       "    </tr>\n",
       "    <tr>\n",
       "      <th>4</th>\n",
       "      <td>176560</td>\n",
       "      <td>Wired Headphones</td>\n",
       "      <td>1</td>\n",
       "      <td>11.99</td>\n",
       "      <td>4/12/2019 14:38</td>\n",
       "      <td>669 Spruce St, Los Angeles, CA 90001</td>\n",
       "      <td>4</td>\n",
       "    </tr>\n",
       "    <tr>\n",
       "      <th>5</th>\n",
       "      <td>176561</td>\n",
       "      <td>Wired Headphones</td>\n",
       "      <td>1</td>\n",
       "      <td>11.99</td>\n",
       "      <td>4/30/2019 9:27</td>\n",
       "      <td>333 8th St, Los Angeles, CA 90001</td>\n",
       "      <td>4</td>\n",
       "    </tr>\n",
       "  </tbody>\n",
       "</table>\n",
       "</div>"
      ],
      "text/plain": [
       "  Order ID                     Product Quantity Ordered Price Each  \\\n",
       "0   176558        USB-C Charging Cable                2      11.95   \n",
       "2   176559  Bose SoundSport Headphones                1      99.99   \n",
       "3   176560                Google Phone                1        600   \n",
       "4   176560            Wired Headphones                1      11.99   \n",
       "5   176561            Wired Headphones                1      11.99   \n",
       "\n",
       "        Order Date                      Purchase Address  Months  \n",
       "0   4/19/2019 8:46          917 1st St, Dallas, TX 75001       4  \n",
       "2   4/7/2019 22:30     682 Chestnut St, Boston, MA 02215       4  \n",
       "3  4/12/2019 14:38  669 Spruce St, Los Angeles, CA 90001       4  \n",
       "4  4/12/2019 14:38  669 Spruce St, Los Angeles, CA 90001       4  \n",
       "5   4/30/2019 9:27     333 8th St, Los Angeles, CA 90001       4  "
      ]
     },
     "execution_count": 5,
     "metadata": {},
     "output_type": "execute_result"
    }
   ],
   "source": [
    "all_data = all_data.dropna()\n",
    "all_data = all_data[all_data['Order Date'] != 'Order Date']\n",
    "all_data['Months'] = all_data['Months'].astype(int)\n",
    "all_data.head()"
   ]
  },
  {
   "cell_type": "markdown",
   "id": "c65d9188-4837-480f-b56e-60c7b478188a",
   "metadata": {},
   "source": [
    "### Add Sales Column"
   ]
  },
  {
   "cell_type": "markdown",
   "id": "e42f33cc-8a44-4fef-87a2-d0adcbc32047",
   "metadata": {},
   "source": [
    "Convert Quantity Ordered & Price Each Columns To int32 & float "
   ]
  },
  {
   "cell_type": "code",
   "execution_count": 6,
   "id": "d5a551f9-4e3e-442b-b646-7e041b72d219",
   "metadata": {},
   "outputs": [
    {
     "data": {
      "text/html": [
       "<div>\n",
       "<style scoped>\n",
       "    .dataframe tbody tr th:only-of-type {\n",
       "        vertical-align: middle;\n",
       "    }\n",
       "\n",
       "    .dataframe tbody tr th {\n",
       "        vertical-align: top;\n",
       "    }\n",
       "\n",
       "    .dataframe thead th {\n",
       "        text-align: right;\n",
       "    }\n",
       "</style>\n",
       "<table border=\"1\" class=\"dataframe\">\n",
       "  <thead>\n",
       "    <tr style=\"text-align: right;\">\n",
       "      <th></th>\n",
       "      <th>Order ID</th>\n",
       "      <th>Product</th>\n",
       "      <th>Quantity Ordered</th>\n",
       "      <th>Price Each</th>\n",
       "      <th>Order Date</th>\n",
       "      <th>Purchase Address</th>\n",
       "      <th>Months</th>\n",
       "      <th>Sales</th>\n",
       "    </tr>\n",
       "  </thead>\n",
       "  <tbody>\n",
       "    <tr>\n",
       "      <th>0</th>\n",
       "      <td>176558</td>\n",
       "      <td>USB-C Charging Cable</td>\n",
       "      <td>2</td>\n",
       "      <td>11.95</td>\n",
       "      <td>4/19/2019 8:46</td>\n",
       "      <td>917 1st St, Dallas, TX 75001</td>\n",
       "      <td>4</td>\n",
       "      <td>23.90</td>\n",
       "    </tr>\n",
       "    <tr>\n",
       "      <th>2</th>\n",
       "      <td>176559</td>\n",
       "      <td>Bose SoundSport Headphones</td>\n",
       "      <td>1</td>\n",
       "      <td>99.99</td>\n",
       "      <td>4/7/2019 22:30</td>\n",
       "      <td>682 Chestnut St, Boston, MA 02215</td>\n",
       "      <td>4</td>\n",
       "      <td>99.99</td>\n",
       "    </tr>\n",
       "    <tr>\n",
       "      <th>3</th>\n",
       "      <td>176560</td>\n",
       "      <td>Google Phone</td>\n",
       "      <td>1</td>\n",
       "      <td>600.00</td>\n",
       "      <td>4/12/2019 14:38</td>\n",
       "      <td>669 Spruce St, Los Angeles, CA 90001</td>\n",
       "      <td>4</td>\n",
       "      <td>600.00</td>\n",
       "    </tr>\n",
       "    <tr>\n",
       "      <th>4</th>\n",
       "      <td>176560</td>\n",
       "      <td>Wired Headphones</td>\n",
       "      <td>1</td>\n",
       "      <td>11.99</td>\n",
       "      <td>4/12/2019 14:38</td>\n",
       "      <td>669 Spruce St, Los Angeles, CA 90001</td>\n",
       "      <td>4</td>\n",
       "      <td>11.99</td>\n",
       "    </tr>\n",
       "    <tr>\n",
       "      <th>5</th>\n",
       "      <td>176561</td>\n",
       "      <td>Wired Headphones</td>\n",
       "      <td>1</td>\n",
       "      <td>11.99</td>\n",
       "      <td>4/30/2019 9:27</td>\n",
       "      <td>333 8th St, Los Angeles, CA 90001</td>\n",
       "      <td>4</td>\n",
       "      <td>11.99</td>\n",
       "    </tr>\n",
       "  </tbody>\n",
       "</table>\n",
       "</div>"
      ],
      "text/plain": [
       "  Order ID                     Product  Quantity Ordered  Price Each  \\\n",
       "0   176558        USB-C Charging Cable                 2       11.95   \n",
       "2   176559  Bose SoundSport Headphones                 1       99.99   \n",
       "3   176560                Google Phone                 1      600.00   \n",
       "4   176560            Wired Headphones                 1       11.99   \n",
       "5   176561            Wired Headphones                 1       11.99   \n",
       "\n",
       "        Order Date                      Purchase Address  Months   Sales  \n",
       "0   4/19/2019 8:46          917 1st St, Dallas, TX 75001       4   23.90  \n",
       "2   4/7/2019 22:30     682 Chestnut St, Boston, MA 02215       4   99.99  \n",
       "3  4/12/2019 14:38  669 Spruce St, Los Angeles, CA 90001       4  600.00  \n",
       "4  4/12/2019 14:38  669 Spruce St, Los Angeles, CA 90001       4   11.99  \n",
       "5   4/30/2019 9:27     333 8th St, Los Angeles, CA 90001       4   11.99  "
      ]
     },
     "execution_count": 6,
     "metadata": {},
     "output_type": "execute_result"
    }
   ],
   "source": [
    "all_data['Quantity Ordered'] = all_data['Quantity Ordered'].astype(int)\n",
    "all_data['Price Each'] = all_data['Price Each'].astype(float)\n",
    "all_data['Sales'] = all_data['Quantity Ordered'] * all_data['Price Each']\n",
    "all_data.head()"
   ]
  },
  {
   "cell_type": "markdown",
   "id": "ed7c63db-9dca-4f6e-8074-cf5cca76300f",
   "metadata": {},
   "source": [
    "### What Was The Best Month For Sales ? How Much Was Earned That Month ?"
   ]
  },
  {
   "cell_type": "code",
   "execution_count": 7,
   "id": "533f6c89-de0d-471f-92b7-94e2b895c9b0",
   "metadata": {},
   "outputs": [
    {
     "data": {
      "text/plain": [
       "Months\n",
       "12    4613443.34\n",
       "Name: Sales, dtype: float64"
      ]
     },
     "execution_count": 7,
     "metadata": {},
     "output_type": "execute_result"
    }
   ],
   "source": [
    "sum_all_months = all_data.groupby('Months').sum()['Sales']\n",
    "sum_all_months.sort_values(ascending=False).head(1)"
   ]
  },
  {
   "cell_type": "markdown",
   "id": "bbe89fc6-d942-4788-bf7a-654795caff73",
   "metadata": {},
   "source": [
    "-------------------------------------------------------------------------------------------------------------------------"
   ]
  },
  {
   "cell_type": "markdown",
   "id": "05651453-7bde-4d21-8dc2-036ee26aac5f",
   "metadata": {},
   "source": [
    "### Visualize Sales By Months"
   ]
  },
  {
   "cell_type": "code",
   "execution_count": 8,
   "id": "3666a99c-329c-4471-b93d-387f245293ba",
   "metadata": {},
   "outputs": [
    {
     "data": {
      "image/png": "[encoded data removed]",
      "text/plain": [
       "<Figure size 900x400 with 1 Axes>"
      ]
     },
     "metadata": {},
     "output_type": "display_data"
    }
   ],
   "source": [
    "plt.figure(figsize=(9, 4))  # Adjust figure size if needed\n",
    "plt.bar(sum_all_months.index, sum_all_months.values, color='grey')\n",
    "plt.xlabel('Months')\n",
    "plt.ylabel('Total Sales(Millions)')\n",
    "plt.title('Total Sales by Month')\n",
    "plt.xticks(sum_all_months.index)  # Set x-axis ticks to match months\n",
    "plt.show()"
   ]
  },
  {
   "cell_type": "markdown",
   "id": "ddf22f2d-8fa2-4648-934e-f16084d51cf6",
   "metadata": {},
   "source": [
    "-"
   ]
  },
  {
   "cell_type": "markdown",
   "id": "3f17918b-76e7-498f-a750-e3a90234b95a",
   "metadata": {},
   "source": [
    "#### Which City Has The Highest Number Of Sales ?"
   ]
  },
  {
   "cell_type": "code",
   "execution_count": 9,
   "id": "a2f3108f-e771-4778-84ee-53a77a707ee5",
   "metadata": {},
   "outputs": [
    {
     "data": {
      "text/html": [
       "<div>\n",
       "<style scoped>\n",
       "    .dataframe tbody tr th:only-of-type {\n",
       "        vertical-align: middle;\n",
       "    }\n",
       "\n",
       "    .dataframe tbody tr th {\n",
       "        vertical-align: top;\n",
       "    }\n",
       "\n",
       "    .dataframe thead th {\n",
       "        text-align: right;\n",
       "    }\n",
       "</style>\n",
       "<table border=\"1\" class=\"dataframe\">\n",
       "  <thead>\n",
       "    <tr style=\"text-align: right;\">\n",
       "      <th></th>\n",
       "      <th>Order ID</th>\n",
       "      <th>Product</th>\n",
       "      <th>Quantity Ordered</th>\n",
       "      <th>Price Each</th>\n",
       "      <th>Order Date</th>\n",
       "      <th>Purchase Address</th>\n",
       "      <th>Months</th>\n",
       "      <th>Sales</th>\n",
       "      <th>City</th>\n",
       "    </tr>\n",
       "  </thead>\n",
       "  <tbody>\n",
       "    <tr>\n",
       "      <th>0</th>\n",
       "      <td>176558</td>\n",
       "      <td>USB-C Charging Cable</td>\n",
       "      <td>2</td>\n",
       "      <td>11.95</td>\n",
       "      <td>4/19/2019 8:46</td>\n",
       "      <td>917 1st St, Dallas, TX 75001</td>\n",
       "      <td>4</td>\n",
       "      <td>23.90</td>\n",
       "      <td>Dallas</td>\n",
       "    </tr>\n",
       "    <tr>\n",
       "      <th>2</th>\n",
       "      <td>176559</td>\n",
       "      <td>Bose SoundSport Headphones</td>\n",
       "      <td>1</td>\n",
       "      <td>99.99</td>\n",
       "      <td>4/7/2019 22:30</td>\n",
       "      <td>682 Chestnut St, Boston, MA 02215</td>\n",
       "      <td>4</td>\n",
       "      <td>99.99</td>\n",
       "      <td>Boston</td>\n",
       "    </tr>\n",
       "    <tr>\n",
       "      <th>3</th>\n",
       "      <td>176560</td>\n",
       "      <td>Google Phone</td>\n",
       "      <td>1</td>\n",
       "      <td>600.00</td>\n",
       "      <td>4/12/2019 14:38</td>\n",
       "      <td>669 Spruce St, Los Angeles, CA 90001</td>\n",
       "      <td>4</td>\n",
       "      <td>600.00</td>\n",
       "      <td>Los Angeles</td>\n",
       "    </tr>\n",
       "    <tr>\n",
       "      <th>4</th>\n",
       "      <td>176560</td>\n",
       "      <td>Wired Headphones</td>\n",
       "      <td>1</td>\n",
       "      <td>11.99</td>\n",
       "      <td>4/12/2019 14:38</td>\n",
       "      <td>669 Spruce St, Los Angeles, CA 90001</td>\n",
       "      <td>4</td>\n",
       "      <td>11.99</td>\n",
       "      <td>Los Angeles</td>\n",
       "    </tr>\n",
       "    <tr>\n",
       "      <th>5</th>\n",
       "      <td>176561</td>\n",
       "      <td>Wired Headphones</td>\n",
       "      <td>1</td>\n",
       "      <td>11.99</td>\n",
       "      <td>4/30/2019 9:27</td>\n",
       "      <td>333 8th St, Los Angeles, CA 90001</td>\n",
       "      <td>4</td>\n",
       "      <td>11.99</td>\n",
       "      <td>Los Angeles</td>\n",
       "    </tr>\n",
       "    <tr>\n",
       "      <th>...</th>\n",
       "      <td>...</td>\n",
       "      <td>...</td>\n",
       "      <td>...</td>\n",
       "      <td>...</td>\n",
       "      <td>...</td>\n",
       "      <td>...</td>\n",
       "      <td>...</td>\n",
       "      <td>...</td>\n",
       "      <td>...</td>\n",
       "    </tr>\n",
       "    <tr>\n",
       "      <th>186845</th>\n",
       "      <td>259353</td>\n",
       "      <td>AAA Batteries (4-pack)</td>\n",
       "      <td>3</td>\n",
       "      <td>2.99</td>\n",
       "      <td>9/17/2019 20:56</td>\n",
       "      <td>840 Highland St, Los Angeles, CA 90001</td>\n",
       "      <td>9</td>\n",
       "      <td>8.97</td>\n",
       "      <td>Los Angeles</td>\n",
       "    </tr>\n",
       "    <tr>\n",
       "      <th>186846</th>\n",
       "      <td>259354</td>\n",
       "      <td>iPhone</td>\n",
       "      <td>1</td>\n",
       "      <td>700.00</td>\n",
       "      <td>9/1/2019 16:00</td>\n",
       "      <td>216 Dogwood St, San Francisco, CA 94016</td>\n",
       "      <td>9</td>\n",
       "      <td>700.00</td>\n",
       "      <td>San Francisco</td>\n",
       "    </tr>\n",
       "    <tr>\n",
       "      <th>186847</th>\n",
       "      <td>259355</td>\n",
       "      <td>iPhone</td>\n",
       "      <td>1</td>\n",
       "      <td>700.00</td>\n",
       "      <td>9/23/2019 7:39</td>\n",
       "      <td>220 12th St, San Francisco, CA 94016</td>\n",
       "      <td>9</td>\n",
       "      <td>700.00</td>\n",
       "      <td>San Francisco</td>\n",
       "    </tr>\n",
       "    <tr>\n",
       "      <th>186848</th>\n",
       "      <td>259356</td>\n",
       "      <td>34in Ultrawide Monitor</td>\n",
       "      <td>1</td>\n",
       "      <td>379.99</td>\n",
       "      <td>9/19/2019 17:30</td>\n",
       "      <td>511 Forest St, San Francisco, CA 94016</td>\n",
       "      <td>9</td>\n",
       "      <td>379.99</td>\n",
       "      <td>San Francisco</td>\n",
       "    </tr>\n",
       "    <tr>\n",
       "      <th>186849</th>\n",
       "      <td>259357</td>\n",
       "      <td>USB-C Charging Cable</td>\n",
       "      <td>1</td>\n",
       "      <td>11.95</td>\n",
       "      <td>9/30/2019 0:18</td>\n",
       "      <td>250 Meadow St, San Francisco, CA 94016</td>\n",
       "      <td>9</td>\n",
       "      <td>11.95</td>\n",
       "      <td>San Francisco</td>\n",
       "    </tr>\n",
       "  </tbody>\n",
       "</table>\n",
       "<p>185950 rows × 9 columns</p>\n",
       "</div>"
      ],
      "text/plain": [
       "       Order ID                     Product  Quantity Ordered  Price Each  \\\n",
       "0        176558        USB-C Charging Cable                 2       11.95   \n",
       "2        176559  Bose SoundSport Headphones                 1       99.99   \n",
       "3        176560                Google Phone                 1      600.00   \n",
       "4        176560            Wired Headphones                 1       11.99   \n",
       "5        176561            Wired Headphones                 1       11.99   \n",
       "...         ...                         ...               ...         ...   \n",
       "186845   259353      AAA Batteries (4-pack)                 3        2.99   \n",
       "186846   259354                      iPhone                 1      700.00   \n",
       "186847   259355                      iPhone                 1      700.00   \n",
       "186848   259356      34in Ultrawide Monitor                 1      379.99   \n",
       "186849   259357        USB-C Charging Cable                 1       11.95   \n",
       "\n",
       "             Order Date                         Purchase Address  Months  \\\n",
       "0        4/19/2019 8:46             917 1st St, Dallas, TX 75001       4   \n",
       "2        4/7/2019 22:30        682 Chestnut St, Boston, MA 02215       4   \n",
       "3       4/12/2019 14:38     669 Spruce St, Los Angeles, CA 90001       4   \n",
       "4       4/12/2019 14:38     669 Spruce St, Los Angeles, CA 90001       4   \n",
       "5        4/30/2019 9:27        333 8th St, Los Angeles, CA 90001       4   \n",
       "...                 ...                                      ...     ...   \n",
       "186845  9/17/2019 20:56   840 Highland St, Los Angeles, CA 90001       9   \n",
       "186846   9/1/2019 16:00  216 Dogwood St, San Francisco, CA 94016       9   \n",
       "186847   9/23/2019 7:39     220 12th St, San Francisco, CA 94016       9   \n",
       "186848  9/19/2019 17:30   511 Forest St, San Francisco, CA 94016       9   \n",
       "186849   9/30/2019 0:18   250 Meadow St, San Francisco, CA 94016       9   \n",
       "\n",
       "         Sales            City  \n",
       "0        23.90          Dallas  \n",
       "2        99.99          Boston  \n",
       "3       600.00     Los Angeles  \n",
       "4        11.99     Los Angeles  \n",
       "5        11.99     Los Angeles  \n",
       "...        ...             ...  \n",
       "186845    8.97     Los Angeles  \n",
       "186846  700.00   San Francisco  \n",
       "186847  700.00   San Francisco  \n",
       "186848  379.99   San Francisco  \n",
       "186849   11.95   San Francisco  \n",
       "\n",
       "[185950 rows x 9 columns]"
      ]
     },
     "execution_count": 9,
     "metadata": {},
     "output_type": "execute_result"
    }
   ],
   "source": [
    "all_data['City'] = 'h'\n",
    "all_data['City'] = all_data['Purchase Address'].str.split(',').str[1]\n",
    "all_data"
   ]
  },
  {
   "cell_type": "code",
   "execution_count": 10,
   "id": "24a1ea1f-7932-46ea-b358-945c17b542df",
   "metadata": {},
   "outputs": [
    {
     "data": {
      "image/png": "[encoded data removed]",
      "text/plain": [
       "<Figure size 1300x400 with 1 Axes>"
      ]
     },
     "metadata": {},
     "output_type": "display_data"
    }
   ],
   "source": [
    "sum_all_city = all_data.groupby('City').sum()['Sales']\n",
    "\n",
    "plt.figure(figsize=(13, 4))  # Adjust figure size if needed\n",
    "plt.bar(sum_all_city.index, sum_all_city.values, color='darkblue')\n",
    "plt.xlabel('City')\n",
    "plt.ylabel('Total Sales(Millions)')\n",
    "plt.title('Total Sales by City')\n",
    "plt.xticks(sum_all_city.index)\n",
    "plt.show()"
   ]
  },
  {
   "cell_type": "markdown",
   "id": "403d8314-703b-46d9-931c-ff3efb2ce1de",
   "metadata": {},
   "source": [
    "-"
   ]
  },
  {
   "cell_type": "markdown",
   "id": "b50d18a8-6831-472a-bfe0-7ed5f404962e",
   "metadata": {},
   "source": [
    "### Add Column Street Using lambda Function"
   ]
  },
  {
   "cell_type": "code",
   "execution_count": 11,
   "id": "39a8c694-f620-4414-b131-a40b9eb957fd",
   "metadata": {},
   "outputs": [],
   "source": [
    "def get_street(street):\n",
    "    return street.split(',')[0]\n",
    "\n",
    "all_data['Street'] = all_data['Purchase Address'].apply(lambda x: get_street(x))"
   ]
  },
  {
   "cell_type": "code",
   "execution_count": 12,
   "id": "6787ee61-d8d7-408d-8f5c-a2225984ff22",
   "metadata": {},
   "outputs": [
    {
     "data": {
      "text/html": [
       "<div>\n",
       "<style scoped>\n",
       "    .dataframe tbody tr th:only-of-type {\n",
       "        vertical-align: middle;\n",
       "    }\n",
       "\n",
       "    .dataframe tbody tr th {\n",
       "        vertical-align: top;\n",
       "    }\n",
       "\n",
       "    .dataframe thead th {\n",
       "        text-align: right;\n",
       "    }\n",
       "</style>\n",
       "<table border=\"1\" class=\"dataframe\">\n",
       "  <thead>\n",
       "    <tr style=\"text-align: right;\">\n",
       "      <th></th>\n",
       "      <th>Order ID</th>\n",
       "      <th>Product</th>\n",
       "      <th>Quantity Ordered</th>\n",
       "      <th>Price Each</th>\n",
       "      <th>Order Date</th>\n",
       "      <th>Purchase Address</th>\n",
       "      <th>Months</th>\n",
       "      <th>Sales</th>\n",
       "      <th>City</th>\n",
       "      <th>Street</th>\n",
       "    </tr>\n",
       "  </thead>\n",
       "  <tbody>\n",
       "    <tr>\n",
       "      <th>0</th>\n",
       "      <td>176558</td>\n",
       "      <td>USB-C Charging Cable</td>\n",
       "      <td>2</td>\n",
       "      <td>11.95</td>\n",
       "      <td>4/19/2019 8:46</td>\n",
       "      <td>917 1st St, Dallas, TX 75001</td>\n",
       "      <td>4</td>\n",
       "      <td>23.90</td>\n",
       "      <td>Dallas</td>\n",
       "      <td>917 1st St</td>\n",
       "    </tr>\n",
       "    <tr>\n",
       "      <th>2</th>\n",
       "      <td>176559</td>\n",
       "      <td>Bose SoundSport Headphones</td>\n",
       "      <td>1</td>\n",
       "      <td>99.99</td>\n",
       "      <td>4/7/2019 22:30</td>\n",
       "      <td>682 Chestnut St, Boston, MA 02215</td>\n",
       "      <td>4</td>\n",
       "      <td>99.99</td>\n",
       "      <td>Boston</td>\n",
       "      <td>682 Chestnut St</td>\n",
       "    </tr>\n",
       "    <tr>\n",
       "      <th>3</th>\n",
       "      <td>176560</td>\n",
       "      <td>Google Phone</td>\n",
       "      <td>1</td>\n",
       "      <td>600.00</td>\n",
       "      <td>4/12/2019 14:38</td>\n",
       "      <td>669 Spruce St, Los Angeles, CA 90001</td>\n",
       "      <td>4</td>\n",
       "      <td>600.00</td>\n",
       "      <td>Los Angeles</td>\n",
       "      <td>669 Spruce St</td>\n",
       "    </tr>\n",
       "    <tr>\n",
       "      <th>4</th>\n",
       "      <td>176560</td>\n",
       "      <td>Wired Headphones</td>\n",
       "      <td>1</td>\n",
       "      <td>11.99</td>\n",
       "      <td>4/12/2019 14:38</td>\n",
       "      <td>669 Spruce St, Los Angeles, CA 90001</td>\n",
       "      <td>4</td>\n",
       "      <td>11.99</td>\n",
       "      <td>Los Angeles</td>\n",
       "      <td>669 Spruce St</td>\n",
       "    </tr>\n",
       "    <tr>\n",
       "      <th>5</th>\n",
       "      <td>176561</td>\n",
       "      <td>Wired Headphones</td>\n",
       "      <td>1</td>\n",
       "      <td>11.99</td>\n",
       "      <td>4/30/2019 9:27</td>\n",
       "      <td>333 8th St, Los Angeles, CA 90001</td>\n",
       "      <td>4</td>\n",
       "      <td>11.99</td>\n",
       "      <td>Los Angeles</td>\n",
       "      <td>333 8th St</td>\n",
       "    </tr>\n",
       "  </tbody>\n",
       "</table>\n",
       "</div>"
      ],
      "text/plain": [
       "  Order ID                     Product  Quantity Ordered  Price Each  \\\n",
       "0   176558        USB-C Charging Cable                 2       11.95   \n",
       "2   176559  Bose SoundSport Headphones                 1       99.99   \n",
       "3   176560                Google Phone                 1      600.00   \n",
       "4   176560            Wired Headphones                 1       11.99   \n",
       "5   176561            Wired Headphones                 1       11.99   \n",
       "\n",
       "        Order Date                      Purchase Address  Months   Sales  \\\n",
       "0   4/19/2019 8:46          917 1st St, Dallas, TX 75001       4   23.90   \n",
       "2   4/7/2019 22:30     682 Chestnut St, Boston, MA 02215       4   99.99   \n",
       "3  4/12/2019 14:38  669 Spruce St, Los Angeles, CA 90001       4  600.00   \n",
       "4  4/12/2019 14:38  669 Spruce St, Los Angeles, CA 90001       4   11.99   \n",
       "5   4/30/2019 9:27     333 8th St, Los Angeles, CA 90001       4   11.99   \n",
       "\n",
       "           City           Street  \n",
       "0        Dallas       917 1st St  \n",
       "2        Boston  682 Chestnut St  \n",
       "3   Los Angeles    669 Spruce St  \n",
       "4   Los Angeles    669 Spruce St  \n",
       "5   Los Angeles       333 8th St  "
      ]
     },
     "execution_count": 12,
     "metadata": {},
     "output_type": "execute_result"
    }
   ],
   "source": [
    "all_data.head()"
   ]
  },
  {
   "cell_type": "markdown",
   "id": "7f8464ac-3a61-47b2-a4bf-788ed9df4cc4",
   "metadata": {},
   "source": [
    "-"
   ]
  },
  {
   "cell_type": "markdown",
   "id": "a5c108ad-ccfd-4ac1-9aa1-8804cfb9b033",
   "metadata": {},
   "source": [
    "## What Time Should We Display Ads To Maximize Sales Of Products ?"
   ]
  },
  {
   "cell_type": "markdown",
   "id": "bdfc2f2c-10db-4eac-8a87-02fcf1396058",
   "metadata": {},
   "source": [
    "Convert Order Date to DateTime format and then extract Hours and minutes"
   ]
  },
  {
   "cell_type": "code",
   "execution_count": 13,
   "id": "b295b325-2015-4fc8-8a28-84d066a04c11",
   "metadata": {},
   "outputs": [],
   "source": [
    "all_data['Order Date'] = pd.to_datetime(all_data['Order Date'])\n",
    "all_data['Hour'] = all_data['Order Date'].dt.hour\n",
    "all_data['Minute'] = all_data['Order Date'].dt.minute\n"
   ]
  },
  {
   "cell_type": "code",
   "execution_count": 74,
   "id": "f57be727-3ca2-4024-a7a7-8b9abbbab752",
   "metadata": {},
   "outputs": [
    {
     "data": {
      "image/png": "[encoded data removed]",
      "text/plain": [
       "<Figure size 640x480 with 1 Axes>"
      ]
     },
     "metadata": {},
     "output_type": "display_data"
    }
   ],
   "source": [
    "hours = [hour for hour, df in all_data.groupby('Hour')]\n",
    "\n",
    "hourly_counts = all_data.groupby('Hour').size()\n",
    "\n",
    "plt.plot(hours, hourly_counts, color='red')\n",
    "plt.xlabel('Hour')\n",
    "plt.ylabel('Count')\n",
    "plt.title('Total Orders by Hour')\n",
    "plt.xticks(hours)\n",
    "plt.grid()\n",
    "plt.show()\n",
    "\n",
    "#Recommended to advertise at 11am or 7pm (19)"
   ]
  },
  {
   "cell_type": "markdown",
   "id": "c5360f97-b6b7-47f4-83fe-9c7334fac8dc",
   "metadata": {},
   "source": [
    "-\n"
   ]
  },
  {
   "cell_type": "markdown",
   "id": "f74b164a-9db2-42a7-b568-5babeba50e6a",
   "metadata": {},
   "source": [
    "### What Products Are Often Sold Together ?"
   ]
  },
  {
   "cell_type": "markdown",
   "id": "a47bdaec-ff4b-4afb-8a9d-96883e504672",
   "metadata": {},
   "source": [
    "Show Top 5 Sold Combined Products"
   ]
  },
  {
   "cell_type": "code",
   "execution_count": 47,
   "id": "c10dbf18-8525-4808-9ef6-f70b51c08394",
   "metadata": {},
   "outputs": [
    {
     "data": {
      "text/plain": [
       "Combined Products\n",
       "iPhone,Lightning Charging Cable         1764\n",
       "Google Phone,USB-C Charging Cable       1712\n",
       "iPhone,Wired Headphones                  722\n",
       "Vareebadd Phone,USB-C Charging Cable     624\n",
       "Google Phone,Wired Headphones            606\n",
       "dtype: int64"
      ]
     },
     "execution_count": 47,
     "metadata": {},
     "output_type": "execute_result"
    }
   ],
   "source": [
    "df = all_data[all_data['Order ID'].duplicated(keep = False)].copy()\n",
    "df['Combined Products'] = df.groupby('Order ID')['Product'].transform(lambda x: ','.join(x))\n",
    "df.groupby('Combined Products').size().sort_values(ascending = False).head(5)"
   ]
  },
  {
   "cell_type": "markdown",
   "id": "8df32613-29ae-4d0f-9847-53d7da4194b9",
   "metadata": {},
   "source": [
    "-"
   ]
  },
  {
   "cell_type": "markdown",
   "id": "4f9d7886-d02a-4a51-916e-f10ebb9a3cd3",
   "metadata": {},
   "source": [
    "## What Are The Most Sold Products ?"
   ]
  },
  {
   "cell_type": "code",
   "execution_count": 72,
   "id": "57fa6717-ae0f-4d5c-aa08-9ab9a82d6119",
   "metadata": {},
   "outputs": [
    {
     "data": {
      "image/png": "[encoded data removed]",
      "text/plain": [
       "<Figure size 1000x600 with 1 Axes>"
      ]
     },
     "metadata": {},
     "output_type": "display_data"
    }
   ],
   "source": [
    "products = all_data.groupby('Product')['Quantity Ordered'].sum().sort_values(ascending=True)\n",
    "\n",
    "plt.figure(figsize=(10, 6))  # Adjust figure size if needed\n",
    "plt.barh(products.index, products.values, color='skyblue')\n",
    "plt.xlabel('Total Quantity(Thousands)', color= 'grey')\n",
    "plt.ylabel('Product', color= 'grey')\n",
    "plt.title('Total Sold Products', color= 'grey')\n",
    "plt.yticks(products.index)\n",
    "plt.show()"
   ]
  },
  {
   "cell_type": "code",
   "execution_count": null,
   "id": "5525c7ca-cfd1-4c6b-9b97-67083da62a23",
   "metadata": {},
   "outputs": [],
   "source": []
  }
 ],
 "metadata": {
  "kernelspec": {
   "display_name": "Python 3 (ipykernel)",
   "language": "python",
   "name": "python3"
  },
  "language_info": {
   "codemirror_mode": {
    "name": "ipython",
    "version": 3
   },
   "file_extension": ".py",
   "mimetype": "text/x-python",
   "name": "python",
   "nbconvert_exporter": "python",
   "pygments_lexer": "ipython3",
   "version": "3.11.7"
  }
 },
 "nbformat": 4,
 "nbformat_minor": 5
}
